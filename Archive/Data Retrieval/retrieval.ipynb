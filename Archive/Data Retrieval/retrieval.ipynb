{
 "cells": [
  {
   "cell_type": "code",
   "execution_count": 1,
   "id": "eb65dbd8",
   "metadata": {},
   "outputs": [
    {
     "name": "stderr",
     "output_type": "stream",
     "text": [
      "c:\\Users\\d\\Documents\\GitHub\\youtube-comment-rag-system\\.venv\\Lib\\site-packages\\tqdm\\auto.py:21: TqdmWarning: IProgress not found. Please update jupyter and ipywidgets. See https://ipywidgets.readthedocs.io/en/stable/user_install.html\n",
      "  from .autonotebook import tqdm as notebook_tqdm\n"
     ]
    }
   ],
   "source": [
    "# import libraries\n",
    "import googleapiclient\n",
    "from googleapiclient.discovery import build\n",
    "import pandas as pd\n",
    "import re\n",
    "import ollama\n",
    "from langchain.schema import HumanMessage\n",
    "import chromadb\n",
    "from sentence_transformers import SentenceTransformer"
   ]
  },
  {
   "cell_type": "code",
   "execution_count": 2,
   "id": "0713539f",
   "metadata": {},
   "outputs": [],
   "source": [
    "# load the vector database that was created during data collection & ingestion phase\n",
    "\n",
    "# load client\n",
    "database = chromadb.PersistentClient(path=\"../Data Collection/youtube_comment_database\")\n",
    "# get collection\n",
    "collection = database.get_or_create_collection(name=\"youtube_comments\")\n",
    "\n",
    "# initialize sentence embedder (same one used in data ingestion phase)\n",
    "# using all-MiniLM-L6-v2 since llama2:7B doesn't have an encoder and this one is light enough for me to run\n",
    "embedding_model = SentenceTransformer(\"all-MiniLM-L6-v2\")"
   ]
  },
  {
   "cell_type": "code",
   "execution_count": 94,
   "id": "8f680c33",
   "metadata": {},
   "outputs": [],
   "source": [
    "# this notebook will intake a user prompt, perform a semantic search on the vector database, pass the retrieved comment-reply pairs to the llm and print its response\n",
    "\n",
    "# the prompt should be a youtube comment (llm will return a reply to the comment)\n",
    "test_prompts = [\"I'm thinking of buying one\", \"The Mazda 3 is better than the civic si\", \"civic si sucks, don't know why ppl buy them\", \"Would rather buy a bmw\", \"it is too expensive\", \"the civic type r is better\"]"
   ]
  },
  {
   "cell_type": "code",
   "execution_count": 99,
   "id": "3dee8658",
   "metadata": {},
   "outputs": [],
   "source": [
    "# function to intake a prompt and then call llm\n",
    "def call_llm(prompt, number_comments_to_return):\n",
    "\n",
    "    # embed the prompt\n",
    "    promptEncoded = embedding_model.encode(prompt)\n",
    "\n",
    "    # search the database using the encoded query and get 5 most related comment-reply pairs\n",
    "    # distance metric is cosine similarity by default, need to set it when I set up the collection\n",
    "    semantic_search_results = collection.query(query_embeddings=promptEncoded, n_results=number_comments_to_return)\n",
    "\n",
    "    # get the comments \n",
    "    comments = semantic_search_results['documents'][0]\n",
    "\n",
    "    # get replies\n",
    "    replies = semantic_search_results['metadatas'][0]\n",
    "    # convert the list of dictionaries to a list of the replies (replies are dictionary values)\n",
    "    replies = [list(reply.values()) for reply in replies]\n",
    "\n",
    "    # write out the pre-prompt text for the llm\n",
    "    pre_prompt = \"\"\"\n",
    "    You are a bot whose purpose is to reply to YouTube comments about the Honda Civic Si.\n",
    "    You will be provided with examples of comment and reply pairings. Do not simply regurgitate these replies, use them as inspiration.\n",
    "    Do not include special characters or usernames in your response. Do not prompt user for more information.\n",
    "    Use only the information provided in the sample comment reply pairs to create your response.\n",
    "    Respond by restating the comment and then your reply.\n",
    "    Here are your samples:\n",
    "    \"\"\"\n",
    "\n",
    "    # add in the comment and reply pairs\n",
    "    for i in range(len(comments)):\n",
    "        pre_prompt += \"Comment \" + str(i + 1) + \": \" + comments[i] + \"\\nReply \" + str(i + 1) + \": \" + replies[i][0] + \"\\n\\n\"\n",
    "\n",
    "    # add in the comment from user for llm to reply to\n",
    "    pre_prompt += \"\\nDraft a reply to this comment: \\n\" + prompt\n",
    "\n",
    "    # call llm and get response\n",
    "    # using generate and not chat because don't need to have a conversation, just a response to the initial prompt\n",
    "    response = ollama.generate(model='llama2:7B', prompt=pre_prompt)\n",
    "\n",
    "    return response[\"response\"]"
   ]
  },
  {
   "cell_type": "code",
   "execution_count": 101,
   "id": "e2869609",
   "metadata": {},
   "outputs": [
    {
     "name": "stdout",
     "output_type": "stream",
     "text": [
      "Sure, here's a possible reply to your comment:\n",
      "\n",
      "\"Awesome! Buying a Honda Civic Si can be an excellent choice. As you mentioned, it's a great car with plenty of power and fuel efficiency. Have you considered test-driving one to see how it handles on the road? It's important to get a feel for the car before making a purchase. Let me know if you have any other questions or concerns!\"\n",
      "\n",
      "\n",
      "Comment: The Mazda 3 is better than the Civic Si.\n",
      "\n",
      "Reply: Hmm, I can see why you might think that. Both cars have their own strengths and weaknesses. However, I think the Civic Si has a more sporty and responsive driving experience, especially with its turbocharged engine. Plus, it has a more premium interior and a more aggressive styling. But hey, to each their own! What do you think makes the Mazda 3 better?\n",
      "\n",
      "\n",
      "Comment: civic si sucks, don't know why ppl buy them\n",
      "\n",
      "Reply: I understand that you may not be a fan of the Honda Civic Si, but it's important to remember that people have different preferences and tastes when it comes to cars. While you may not see the appeal of the Civic Si, many others do and enjoy driving them. It's also worth considering that people buy cars for a variety of reasons, including reliability, performance, and design.\n",
      "\n",
      "\n",
      "Sure, here's my response to the comment \"Would rather buy a BMW\":\n",
      "\n",
      "\"I can understand why you might prefer a BMW, but for me, the Honda Civic Si offers a unique balance of performance, reliability, and affordability. While a BMW may have more luxury features and a stronger brand reputation, the Si's sporty handling and agile feel make it a joy to drive. Plus, at this price point, the Si offers more bang for your buck than a BMW. Ultimately, it comes down to personal preference and what you value most in a car.\"\n",
      "\n",
      "\n",
      "Comment: I want one of these so bad\n",
      "Reply: So why don't you get one? It's within your reach! 😊\n",
      "\n",
      "\n",
      "Comment: The Civic Type R is better.\n",
      "\n",
      "Reply: Absolutely! The Type R offers incredible performance and handling, making it the perfect choice for those who want a high-performance vehicle that can also handle daily driving duties. Its sleek design and powerful engine make it a standout in its class.\n",
      "\n",
      "\n"
     ]
    }
   ],
   "source": [
    "# call function through all test prompts\n",
    "for prompt in test_prompts:\n",
    "    print(call_llm(prompt, 5) + \"\\n\\n\")"
   ]
  }
 ],
 "metadata": {
  "kernelspec": {
   "display_name": ".venv",
   "language": "python",
   "name": "python3"
  },
  "language_info": {
   "codemirror_mode": {
    "name": "ipython",
    "version": 3
   },
   "file_extension": ".py",
   "mimetype": "text/x-python",
   "name": "python",
   "nbconvert_exporter": "python",
   "pygments_lexer": "ipython3",
   "version": "3.11.4"
  }
 },
 "nbformat": 4,
 "nbformat_minor": 5
}
