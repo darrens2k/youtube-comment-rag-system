{
 "cells": [
  {
   "cell_type": "code",
   "execution_count": 1,
   "id": "b1ec8a10",
   "metadata": {},
   "outputs": [
    {
     "name": "stderr",
     "output_type": "stream",
     "text": [
      "c:\\Users\\d\\Documents\\GitHub\\youtube-comment-rag-system\\.venv\\Lib\\site-packages\\tqdm\\auto.py:21: TqdmWarning: IProgress not found. Please update jupyter and ipywidgets. See https://ipywidgets.readthedocs.io/en/stable/user_install.html\n",
      "  from .autonotebook import tqdm as notebook_tqdm\n"
     ]
    }
   ],
   "source": [
    "from youtube_scraper import fetchYouTubeComments\n",
    "from data_cleaning import cleanData\n",
    "from upload_vector_db import uploadToVectorDB\n",
    "from semantic_search import getSemanticSearchResults\n",
    "from llm_interface import callLLM"
   ]
  },
  {
   "cell_type": "code",
   "execution_count": 11,
   "id": "a1c46d18",
   "metadata": {},
   "outputs": [],
   "source": [
    "# Define user input and video IDs\n",
    "prompts = [\"I love the Civic Si, I may buy one\", \"The Civic Si sucks, too slow for me\", \"This is one of the best daily drivers that money can buy\", \"The Mazda is better\"]\n",
    "\n",
    "video_ids = [\n",
    "    \"RrZSuz-e9NY\", \"gGmdz9tA1Y8\", \"rGMWjQX5LG8\", \"nafje4-tv-w\", \"JcvQC0eYwJA\",\n",
    "    \"DkW0Fr5KGf0\", \"ezgZCGM-_bg\", \"f6WAqT6073w\", \"F8IEZHeycS4\", \"VY91tZ3m-qU\",\n",
    "    \"wczsTzaIgcE\", \"1h4MB5K_w1I\", \"JOp1xZrbuQM\", \"_e5mIqafwMA\", \"evTLpZZp6R0\", \"pUTj3C-Owx8\"\n",
    "]\n"
   ]
  },
  {
   "cell_type": "code",
   "execution_count": 3,
   "id": "c52ddf72",
   "metadata": {},
   "outputs": [],
   "source": [
    "# note if pulling from github there is no need to run the cell below\n",
    "# the cells below will create the vector database\n",
    "# but if the entire repo is pulled then the entire database already exists\n",
    "# you can skip the last cell which will prompt the LLM \n",
    "\n",
    "# however this assumes you have installed Ollama and llama2:7B locally (and your machine can run it)"
   ]
  },
  {
   "cell_type": "code",
   "execution_count": 4,
   "id": "ad454318",
   "metadata": {},
   "outputs": [],
   "source": [
    "# 1. Fetch comments\n",
    "output = fetchYouTubeComments(video_ids)\n",
    "\n",
    "# 2. Clean data\n",
    "output = cleanData(output)\n",
    "\n",
    "# 3. Upload to vector DB\n",
    "uploadToVectorDB(output)"
   ]
  },
  {
   "cell_type": "code",
   "execution_count": 12,
   "id": "c5872c5a",
   "metadata": {},
   "outputs": [
    {
     "name": "stdout",
     "output_type": "stream",
     "text": [
      "Comment: \"Love the Civic Si! May just have to get one myself 😍\"\n",
      "Reply: \"Awesome! The 11th gen Si is looking great so far. Can't wait to see what updates they have in store for the mid-cycle refresh next year. Have you considered taking a look at some of the previous generation Si models? They have their own unique features and charm. Let me know if you have any questions!\"\n",
      "\n",
      "\n",
      "Comment: The Civic Si sucks, too slow for me.\n",
      "\n",
      "Reply: I understand that you may be looking for a faster car, but the Civic Si has its own unique charm and character. It's not just about speed, it's about the driving experience and the connection you feel with the road. The Si is designed to provide a responsive and agile driving experience, which can be very satisfying for many drivers. Maybe give it a try before writing it off entirely? You might be surprised at how much fun you can have behind the wheel.\n",
      "\n",
      "\n",
      "\"Thanks for sharing your thoughts! Yeah, the Honda Civic Si is definitely a great choice for daily driving. It's not only fun to drive, but it's also very reliable and practical. I'm glad you mentioned the manual transmission, which is a big plus in my book. And as you mentioned, the interior could be better, but it's still a great car overall. I'm sure you'll enjoy it! 😊\"\n",
      "\n",
      "\n",
      "\"I see what you're saying! Yes, the Mazda3 does have some impressive features and specs that set it apart from the Honda Civic Si. However, I think it's important to consider the overall driving experience and what's most important to each individual car buyer. While the Mazda3 may have more horsepower and a sportier feel, the Civic Si has a more comfortable ride and more daily driver features like heated seats. It's also worth considering that the Civic Si is more affordable than the Mazda3, especially when you factor in the Mazdaspeed version. Ultimately, it comes down to personal preference and what you're looking for in a car. Thanks for sharing your thoughts!\"\n",
      "\n",
      "\n"
     ]
    }
   ],
   "source": [
    "# no need to run earlier steps if the vector database has already been created / pulled from github\n",
    "# re-run this cell with new prompts as many times as you may like\n",
    "for prompt in prompts:\n",
    "\n",
    "    # 4. Perform semantic search\n",
    "    comments, replies = getSemanticSearchResults(prompt)\n",
    "\n",
    "    # 5. Generate LLM response\n",
    "    response = callLLM(comments, replies, prompt)\n",
    "\n",
    "    print(response + \"\\n\\n\")"
   ]
  }
 ],
 "metadata": {
  "kernelspec": {
   "display_name": ".venv",
   "language": "python",
   "name": "python3"
  },
  "language_info": {
   "codemirror_mode": {
    "name": "ipython",
    "version": 3
   },
   "file_extension": ".py",
   "mimetype": "text/x-python",
   "name": "python",
   "nbconvert_exporter": "python",
   "pygments_lexer": "ipython3",
   "version": "3.11.4"
  }
 },
 "nbformat": 4,
 "nbformat_minor": 5
}
