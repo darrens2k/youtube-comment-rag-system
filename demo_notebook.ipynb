{
 "cells": [
  {
   "cell_type": "code",
   "execution_count": 4,
   "id": "b1ec8a10",
   "metadata": {},
   "outputs": [],
   "source": [
    "from src.youtube_scraper import fetchYouTubeComments\n",
    "from src.data_cleaning import cleanData\n",
    "from src.upload_vector_db import uploadToVectorDB\n",
    "from src.semantic_search import getSemanticSearchResults\n",
    "from src.llm_interface import callLLM"
   ]
  },
  {
   "cell_type": "code",
   "execution_count": 5,
   "id": "a1c46d18",
   "metadata": {},
   "outputs": [],
   "source": [
    "# Define user input and video IDs\n",
    "prompts = [\"I love the Civic Si, I may buy one\", \"The Civic Si sucks, too slow for me\", \"This is one of the best daily drivers that money can buy\", \"The Mazda is better\"]\n",
    "\n",
    "video_ids = [\n",
    "    \"RrZSuz-e9NY\", \"gGmdz9tA1Y8\", \"rGMWjQX5LG8\", \"nafje4-tv-w\", \"JcvQC0eYwJA\",\n",
    "    \"DkW0Fr5KGf0\", \"ezgZCGM-_bg\", \"f6WAqT6073w\", \"F8IEZHeycS4\", \"VY91tZ3m-qU\",\n",
    "    \"wczsTzaIgcE\", \"1h4MB5K_w1I\", \"JOp1xZrbuQM\", \"_e5mIqafwMA\", \"evTLpZZp6R0\", \"pUTj3C-Owx8\"\n",
    "]"
   ]
  },
  {
   "cell_type": "code",
   "execution_count": 3,
   "id": "c52ddf72",
   "metadata": {},
   "outputs": [],
   "source": [
    "# note if pulling from github there is no need to run the cell below\n",
    "# the cells below will create the vector database\n",
    "# but if the entire repo is pulled then the entire database already exists\n",
    "# you can skip the last cell which will prompt the LLM \n",
    "\n",
    "# however this assumes you have installed Ollama and llama2:7B locally (and your machine can run it)"
   ]
  },
  {
   "cell_type": "code",
   "execution_count": 4,
   "id": "ad454318",
   "metadata": {},
   "outputs": [],
   "source": [
    "# 1. Fetch comments\n",
    "output = fetchYouTubeComments(video_ids)\n",
    "\n",
    "# 2. Clean data\n",
    "output = cleanData(output)\n",
    "\n",
    "# 3. Upload to vector DB\n",
    "uploadToVectorDB(output)"
   ]
  },
  {
   "cell_type": "code",
   "execution_count": 6,
   "id": "c5872c5a",
   "metadata": {},
   "outputs": [
    {
     "name": "stdout",
     "output_type": "stream",
     "text": [
      "Comment: I love the Civic Si, I may buy one\n",
      "Reply: That's great to hear! The Civic Si has always been a fan favorite for its sporty performance and handling. If you do decide to get one, make sure to check out the reviews on the new features like the 1.5L turbo engine and the adaptive damper system.\n",
      "\n",
      "\n",
      "Comment: The Civic Si sucks, too slow for me\n",
      "Reply: Have you considered the 0-60 acceleration or quarter-mile time? The touring model is actually only one second slower in the quarter and has similar 0-60 times to the Si.\n",
      "\n",
      "\n",
      "Comment: This is one of the best daily drivers that money can buy\n",
      "Reply: I agree completely, the Honda Civic Si has proven itself to be an excellent choice for daily driving, offering a perfect blend of performance and practicality.\n",
      "\n",
      "\n",
      "Here's my response:\n",
      "\n",
      "Comment: The Mazda is better\n",
      "Reply: That's a common opinion, but some of us still love our Honda Civic Si for its sporty vibe and daily drivability.\n",
      "\n",
      "\n"
     ]
    }
   ],
   "source": [
    "# no need to run earlier steps if the vector database has already been created / pulled from github\n",
    "# re-run this cell with new prompts as many times as you may like\n",
    "for prompt in prompts:\n",
    "\n",
    "    # 4. Perform semantic search\n",
    "    comments, replies = getSemanticSearchResults(prompt)\n",
    "\n",
    "    # 5. Generate LLM response\n",
    "    response = callLLM(comments, replies, prompt)\n",
    "\n",
    "    print(response + \"\\n\\n\")"
   ]
  }
 ],
 "metadata": {
  "kernelspec": {
   "display_name": ".venv",
   "language": "python",
   "name": "python3"
  },
  "language_info": {
   "codemirror_mode": {
    "name": "ipython",
    "version": 3
   },
   "file_extension": ".py",
   "mimetype": "text/x-python",
   "name": "python",
   "nbconvert_exporter": "python",
   "pygments_lexer": "ipython3",
   "version": "3.11.4"
  }
 },
 "nbformat": 4,
 "nbformat_minor": 5
}
